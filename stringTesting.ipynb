{
 "cells": [
  {
   "cell_type": "code",
   "execution_count": 36,
   "metadata": {},
   "outputs": [],
   "source": [
    "#This program is a simple string testing fuction\n",
    "def testString (phrase):\n",
    "    counter = 0\n",
    "    for letter in phrase:\n",
    "        if letter == '?':\n",
    "            counter += 1\n",
    "        else:\n",
    "            print(\"counter get's reset\")\n",
    "            counter = 0\n",
    "        if counter == 3:\n",
    "            print (counter)\n",
    "            return True\n",
    "        \n",
    "    return False"
   ]
  },
  {
   "cell_type": "code",
   "execution_count": 37,
   "metadata": {},
   "outputs": [
    {
     "name": "stdin",
     "output_type": "stream",
     "text": [
      "Please enter a phrase. I'll find if there's any ?'s repeating three times. ??aaaaa??\n"
     ]
    },
    {
     "name": "stdout",
     "output_type": "stream",
     "text": [
      "counter get's reset\n",
      "counter get's reset\n",
      "counter get's reset\n",
      "counter get's reset\n",
      "counter get's reset\n",
      "False\n"
     ]
    }
   ],
   "source": [
    "user = input(\"Please enter a phrase. I\\'ll find if there\\'s any ?\\'s repeating three times.\")\n",
    "print(testString(user))"
   ]
  }
 ],
 "metadata": {
  "kernelspec": {
   "display_name": "Python 3",
   "language": "python",
   "name": "python3"
  },
  "language_info": {
   "codemirror_mode": {
    "name": "ipython",
    "version": 3
   },
   "file_extension": ".py",
   "mimetype": "text/x-python",
   "name": "python",
   "nbconvert_exporter": "python",
   "pygments_lexer": "ipython3",
   "version": "3.7.1"
  }
 },
 "nbformat": 4,
 "nbformat_minor": 2
}
