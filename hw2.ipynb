{
 "cells": [
  {
   "cell_type": "code",
   "execution_count": 7,
   "metadata": {},
   "outputs": [
    {
     "name": "stdin",
     "output_type": "stream",
     "text": [
      "Enter your annual salary:  120000\n",
      "Enter the percent of your salary to save, as a decimal:  .5\n",
      "Enter the cost of your dream home:  1000000\n",
      "Enter the semi_annual raise, as a decimal:  .07\n"
     ]
    },
    {
     "name": "stdout",
     "output_type": "stream",
     "text": [
      "Number of months:  36\n",
      "224584.74981180034\n"
     ]
    }
   ],
   "source": [
    "#This is a program written by Andrew Humes for MIT python\n",
    "#User inputs\n",
    "annual_salary = float(input(\"Enter your annual salary: \"))\n",
    "portion_saved = float(input(\"Enter the percent of your salary to save, as a decimal: \"))\n",
    "total_cost = float(input(\"Enter the cost of your dream home: \"))\n",
    "semi_annual_raise = float(input(\"Enter the semi_annual raise, as a decimal: \"))\n",
    "\n",
    "#variables needed\n",
    "portion_down_payment = .25 *total_cost\n",
    "current_savings = 0\n",
    "r = .04\n",
    "month = 0\n",
    "\n",
    "#calculations\n",
    "while(current_savings < portion_down_payment):\n",
    "    current_savings += current_savings*r/12 #rate is arbitrarily given and divided by 12 becuase it is by month\n",
    "    current_savings += annual_salary*portion_saved/12\n",
    "    if(month % 6 == 0 and month != 0):\n",
    "        annual_salary += semi_annual_raise * annual_salary\n",
    "    month+= 1\n",
    "print(\"Number of months: \", month)\n",
    "print(current_savings)"
   ]
  },
  {
   "cell_type": "code",
   "execution_count": 6,
   "metadata": {},
   "outputs": [
    {
     "name": "stdin",
     "output_type": "stream",
     "text": [
      "Enter your starting salary:  10000\n"
     ]
    },
    {
     "name": "stdout",
     "output_type": "stream",
     "text": [
      "You poor SOB\n",
      "Best savings rate:  1.0\n",
      "Steps in bisection search: 53\n"
     ]
    }
   ],
   "source": [
    "import sys\n",
    "starting_salary = float(input(\"Enter your starting salary: \"))\n",
    "\n",
    "month = 0\n",
    "current_savings = 0\n",
    "r = .04\n",
    "bi_annual_raise = .07\n",
    "percent_hi = 1\n",
    "percent_lo = 0\n",
    "steps = 0\n",
    "annual_salary = 0\n",
    "\n",
    "while(current_savings < 249900 or current_savings > 250100):\n",
    "    \n",
    "    percent_actual = (percent_hi+percent_lo)/2\n",
    "    annual_salary = starting_salary\n",
    "    current_savings = 0\n",
    "    month = 0\n",
    "    while(month < 36):    \n",
    "        current_savings += current_savings*r/12\n",
    "        current_savings += annual_salary*percent_actual/12\n",
    "        if(month%6 == 0 and month != 0):\n",
    "            annual_salary += bi_annual_raise*annual_salary\n",
    "        month += 1\n",
    "    if(current_savings < 250000):\n",
    "        percent_lo = percent_actual\n",
    "    if(current_savings > 250000):\n",
    "        percent_hi = percent_actual\n",
    "    if(percent_actual == 1):\n",
    "        print(\"You poor SOB\")\n",
    "        break\n",
    "    steps += 1\n",
    "    \n",
    "print(\"Best savings rate: \", percent_actual)\n",
    "print(\"Steps in bisection search:\", steps)"
   ]
  },
  {
   "cell_type": "code",
   "execution_count": null,
   "metadata": {},
   "outputs": [],
   "source": []
  }
 ],
 "metadata": {
  "kernelspec": {
   "display_name": "Python 3",
   "language": "python",
   "name": "python3"
  },
  "language_info": {
   "codemirror_mode": {
    "name": "ipython",
    "version": 3
   },
   "file_extension": ".py",
   "mimetype": "text/x-python",
   "name": "python",
   "nbconvert_exporter": "python",
   "pygments_lexer": "ipython3",
   "version": "3.7.1"
  }
 },
 "nbformat": 4,
 "nbformat_minor": 2
}
