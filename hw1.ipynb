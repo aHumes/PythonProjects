{
 "cells": [
  {
   "cell_type": "code",
   "execution_count": 4,
   "metadata": {},
   "outputs": [
    {
     "name": "stdin",
     "output_type": "stream",
     "text": [
      "Enter number x:  9\n",
      "Enter number y:  9\n"
     ]
    },
    {
     "name": "stdout",
     "output_type": "stream",
     "text": [
      "x**y:  387420489\n",
      "log x and y:  1.0\n",
      "0.07525749891599529\n"
     ]
    }
   ],
   "source": [
    "#This is a program written by Andrew Humes for the MIT class intro to programming with python\n",
    "#\n",
    "import math\n",
    "import sys\n",
    "#gather input\n",
    "x = int(input(\"Enter number x: \"))\n",
    "y = int(input(\"Enter number y: \"))\n",
    "#ouput and calculation \n",
    "print(\"x**y: \", x**y)\n",
    "print(\"log x and y: \", math.log(y, x))\n",
    "print(math.log(2, 10000))"
   ]
  }
 ],
 "metadata": {
  "kernelspec": {
   "display_name": "Python 3",
   "language": "python",
   "name": "python3"
  },
  "language_info": {
   "codemirror_mode": {
    "name": "ipython",
    "version": 3
   },
   "file_extension": ".py",
   "mimetype": "text/x-python",
   "name": "python",
   "nbconvert_exporter": "python",
   "pygments_lexer": "ipython3",
   "version": "3.7.1"
  }
 },
 "nbformat": 4,
 "nbformat_minor": 2
}
